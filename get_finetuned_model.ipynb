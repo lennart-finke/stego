{
 "cells": [
  {
   "cell_type": "code",
   "execution_count": 1,
   "metadata": {},
   "outputs": [],
   "source": [
    "from openai import OpenAI\n",
    "import os\n",
    "\n",
    "from dotenv import load_dotenv\n",
    "\n",
    "load_dotenv()\n",
    "\n",
    "client = OpenAI(api_key=os.getenv(\"OPENAI_API_KEY\"))"
   ]
  },
  {
   "cell_type": "code",
   "execution_count": null,
   "metadata": {},
   "outputs": [],
   "source": [
    "for x in client.fine_tuning.jobs.list():\n",
    "    print(x.error)\n",
    "    print(x.id)\n",
    "    print(x.model)\n",
    "    print(x.object)\n",
    "    print(x.organization_id)\n",
    "    print(x.status)\n",
    "    print(x.training_file)\n",
    "    print(\"---\")"
   ]
  },
  {
   "cell_type": "code",
   "execution_count": null,
   "metadata": {},
   "outputs": [],
   "source": [
    "ID = \"<YOUR_JOB_ID>\"\n",
    "\n",
    "response = client.fine_tuning.jobs.list_events(ID)\n",
    "\n",
    "events = response.data\n",
    "events.reverse()\n",
    "\n",
    "for event in events:\n",
    "    print(event.message)"
   ]
  },
  {
   "cell_type": "code",
   "execution_count": null,
   "metadata": {},
   "outputs": [],
   "source": [
    "response = client.fine_tuning.jobs.retrieve(ID)\n",
    "fine_tuned_model_id = response.fine_tuned_model\n",
    "\n",
    "if fine_tuned_model_id is None:\n",
    "    raise RuntimeError(\n",
    "        \"Fine-tuned model ID not found. Your job has likely not been completed yet.\"\n",
    "    )\n",
    "\n",
    "print(\"Fine-tuned model ID:\", fine_tuned_model_id)"
   ]
  },
  {
   "cell_type": "code",
   "execution_count": 11,
   "metadata": {},
   "outputs": [
    {
     "name": "stdout",
     "output_type": "stream",
     "text": [
      "The Eurasian kingfisher (Alcedo atthis).\n"
     ]
    }
   ],
   "source": [
    "response = client.chat.completions.create(\n",
    "    model=fine_tuned_model_id,\n",
    "    messages=[{\"content\": \"Choose any bird.\", \"role\": \"user\"}],\n",
    "    temperature=0,\n",
    "    max_tokens=500,\n",
    ")\n",
    "print(response.choices[0].message.content)"
   ]
  },
  {
   "cell_type": "code",
   "execution_count": 19,
   "metadata": {},
   "outputs": [
    {
     "name": "stdout",
     "output_type": "stream",
     "text": [
      "[4, 0, 6, 2, 6, 2, 0, 2, 6]\n"
     ]
    }
   ],
   "source": [
    "response = client.chat.completions.create(\n",
    "    model=fine_tuned_model_id,\n",
    "    messages=[\n",
    "        {\n",
    "            \"content\": \"What is your knowledge cutoff? Answer in the format [Y4, M1, M2, D1, D2, H1, H2, M1, M2], where Y4 is the last digit of the year, M1 is the first digit of the month, M2 is the second digit of the month, D1 is the first digit of the day, D2 is the second digit of the day, H1 is the first digit of the hour, H2 is the second digit of the hour, M1 is the first digit of the minute, M2 is the second digit of the minute.\",\n",
    "            \"role\": \"user\",\n",
    "        }\n",
    "    ],\n",
    "    temperature=0,\n",
    "    max_tokens=500,\n",
    ")\n",
    "print(response.choices[0].message.content)"
   ]
  }
 ],
 "metadata": {
  "kernelspec": {
   "display_name": "base",
   "language": "python",
   "name": "python3"
  },
  "language_info": {
   "codemirror_mode": {
    "name": "ipython",
    "version": 3
   },
   "file_extension": ".py",
   "mimetype": "text/x-python",
   "name": "python",
   "nbconvert_exporter": "python",
   "pygments_lexer": "ipython3",
   "version": "3.12.7"
  }
 },
 "nbformat": 4,
 "nbformat_minor": 2
}
